{
 "cells": [
  {
   "cell_type": "markdown",
   "id": "5cf11017-90e6-42ef-93cb-b6b676f514a3",
   "metadata": {},
   "source": [
    "# Automating Traning Pipeline"
   ]
  },
  {
   "cell_type": "markdown",
   "id": "e8e4334e-8c76-49e0-9b6b-309fe3cbc204",
   "metadata": {},
   "source": [
    "#### Automation and Orchestration of a Supervised Tuning Pipeline.\n",
    "\n",
    "- Reuse an existing Kubeflow Pipeline for Parameter-Efficient Fine-Tuning (PEFT) for a foundation model from Google, called [PaLM 2](https://ai.google/discover/palm2/). \n",
    "- Advantage of reusing a pipleline means you do not have to build it from scratch, you can only specify some of the parameters."
   ]
  },
  {
   "cell_type": "code",
   "execution_count": 21,
   "id": "88178549-83df-4fa8-9554-a42e96558d19",
   "metadata": {
    "height": 64,
    "tags": []
   },
   "outputs": [],
   "source": [
    "### the files are consistent for all learners\n",
    "TRAINING_DATA_URI = \"./tune_data_stack_overflow_python_qa.jsonl\" \n",
    "EVAUATION_DATA_URI = \"./tune_eval_data_stack_overflow_python_qa.jsonl\"  "
   ]
  },
  {
   "cell_type": "code",
   "execution_count": 30,
   "id": "6523a5d5",
   "metadata": {
    "height": 98
   },
   "outputs": [
    {
     "name": "stdout",
     "output_type": "stream",
     "text": [
      "./tune_data_stack_overflow_python_qa.jsonl\n",
      "./tune_eval_data_stack_overflow_python_qa.jsonl\n"
     ]
    }
   ],
   "source": [
    "print(TRAINING_DATA_URI)\n",
    "print(EVAUATION_DATA_URI)\n",
    "# we is not in the env we pass the path\n",
    "# of the data where is it stored \n"
   ]
  },
  {
   "cell_type": "markdown",
   "id": "c57609a2-7fe1-4652-933b-6ea9c16fb3d9",
   "metadata": {},
   "source": [
    "- Provide the model with a version.\n",
    "- Versioning model allows for:\n",
    "  - Reproducibility: Reproduce your results and ensure your models perform as expected.\n",
    "  - Auditing: Track changes to your models.\n",
    "  - Rollbacks: Roll back to a previous version of your model."
   ]
  },
  {
   "cell_type": "code",
   "execution_count": 31,
   "id": "aafd1f73-9818-4e91-99e2-12bd5b02ca03",
   "metadata": {
    "height": 81,
    "tags": []
   },
   "outputs": [],
   "source": [
    "### path to the pipeline file to reuse\n",
    "### the file is provided in your workspace as well\n",
    "template_path = 'https://us-kfp.pkg.dev/ml-pipeline/\\\n",
    "large-language-model-pipelines/tune-large-model/v2.0.0'"
   ]
  },
  {
   "cell_type": "code",
   "execution_count": 32,
   "id": "ff34d7c6",
   "metadata": {
    "height": 30
   },
   "outputs": [
    {
     "data": {
      "text/plain": [
       "'https://us-kfp.pkg.dev/ml-pipeline/large-language-model-pipelines/tune-large-model/v2.0.0'"
      ]
     },
     "execution_count": 32,
     "metadata": {},
     "output_type": "execute_result"
    }
   ],
   "source": [
    "template_path"
   ]
  },
  {
   "cell_type": "code",
   "execution_count": 33,
   "id": "0de0a586-56df-4628-a6c7-b5b823b7168e",
   "metadata": {
    "height": 30,
    "tags": []
   },
   "outputs": [],
   "source": [
    "import datetime"
   ]
  },
  {
   "cell_type": "code",
   "execution_count": 34,
   "id": "a95fea7c-e1d4-4d55-bbce-77895e3a5320",
   "metadata": {
    "height": 47,
    "tags": []
   },
   "outputs": [
    {
     "data": {
      "text/plain": [
       "'17:11:10:2024'"
      ]
     },
     "execution_count": 34,
     "metadata": {},
     "output_type": "execute_result"
    }
   ],
   "source": [
    "date = datetime.datetime.now().strftime(\"%H:%d:%m:%Y\")\n",
    "date"
   ]
  },
  {
   "cell_type": "code",
   "execution_count": 35,
   "id": "f34abb24-208c-46ad-b5dc-85a731436cb4",
   "metadata": {
    "height": 47,
    "tags": []
   },
   "outputs": [
    {
     "data": {
      "text/plain": [
       "'deep-learning-ai-model-17:11:10:2024'"
      ]
     },
     "execution_count": 35,
     "metadata": {},
     "output_type": "execute_result"
    }
   ],
   "source": [
    "MODEL_NAME = f\"deep-learning-ai-model-{date}\"\n",
    "MODEL_NAME"
   ]
  },
  {
   "cell_type": "markdown",
   "id": "c86ab578-ac94-419d-813f-162251258e95",
   "metadata": {
    "tags": []
   },
   "source": [
    "  - `TRAINING_STEPS`: Number of training steps to use when tuning the model. For extractive QA you can set it from 100-500. \n",
    "  - `EVALUATION_INTERVAL`: The interval determines how frequently a trained model is evaluated against the created *evaluation set* to assess its performance and identify issues. Default will be 20, which means after every 20 training steps, the model is evaluated on the evaluation dataset."
   ]
  },
  {
   "cell_type": "code",
   "execution_count": 36,
   "id": "e44a637b-6f50-478d-8a58-8e0fc3b8b8c5",
   "metadata": {
    "height": 47,
    "tags": []
   },
   "outputs": [],
   "source": [
    "TRAINING_STEPS = 200\n",
    "EVALUATION_INTERVAL = 20"
   ]
  },
  {
   "cell_type": "markdown",
   "id": "09fc52c0-cab4-4dc1-ab53-fb81970ba408",
   "metadata": {
    "tags": []
   },
   "source": [
    "- Load the Project ID and credentials"
   ]
  },
  {
   "cell_type": "code",
   "execution_count": 37,
   "id": "93bf62a0-b7b9-4fe0-b56c-2518d7a6e672",
   "metadata": {
    "height": 47,
    "tags": []
   },
   "outputs": [],
   "source": [
    "from utils import authenticate\n",
    "credentials, PROJECT_ID = authenticate() "
   ]
  },
  {
   "cell_type": "code",
   "execution_count": 38,
   "id": "ce8044cd-cdd3-4a36-972a-e3f6596368e7",
   "metadata": {
    "height": 30,
    "tags": []
   },
   "outputs": [],
   "source": [
    "REGION = \"us-central1\""
   ]
  },
  {
   "cell_type": "markdown",
   "id": "59fc079e-5244-4421-9648-a9640b823388",
   "metadata": {
    "tags": []
   },
   "source": [
    "- Define the arguments, the input that goes into the pipeline."
   ]
  },
  {
   "cell_type": "code",
   "execution_count": 39,
   "id": "a8deddf9-abad-403d-9780-0a4b4ecbca41",
   "metadata": {
    "height": 198,
    "tags": []
   },
   "outputs": [],
   "source": [
    "pipeline_arguments = {\n",
    "    \"model_display_name\": MODEL_NAME,\n",
    "    \"location\": REGION,\n",
    "    \"large_model_reference\": \"text-bison@001\",  # Instead of starting from scratch. The model \"text-bison@001\" is pre-configured with certain capabilities, making it a convenient starting point for tasks related to text processing or generation.\n",
    "    \"project\": PROJECT_ID,\n",
    "    \"train_steps\": TRAINING_STEPS,\n",
    "    \"dataset_uri\": TRAINING_DATA_URI,\n",
    "    \"evaluation_interval\": EVALUATION_INTERVAL,\n",
    "    \"evaluation_data_uri\": EVAUATION_DATA_URI,\n",
    "}"
   ]
  },
  {
   "cell_type": "code",
   "execution_count": 42,
   "id": "ef05ea07",
   "metadata": {
    "height": 300
   },
   "outputs": [],
   "source": [
    "from google.cloud.aiplatform.pipeline_jobs import PipelineJob\n",
    "\n",
    "pipeline_root = \"./\"\n",
    "\n",
    "job = PipelineJob(\n",
    "    template_path=template_path,\n",
    "    display_name=f\"deep_learning_ai_pipeline-{date}\",\n",
    "    parameter_values=pipeline_arguments, # Root directory for storing temporary pipeline files\n",
    "    location=REGION,\n",
    "    pipeline_root=pipeline_root,\n",
    "    enable_caching=True,\n",
    ")\n",
    "\n",
    "job.submit()\n",
    "job.state\n"
   ]
  },
  {
   "cell_type": "markdown",
   "id": "e913ffed-ec6c-477c-b908-78b65569401e",
   "metadata": {},
   "source": [
    "- Successful execution of the job would display like:\n",
    "\n",
    "<div style=\"text-align: center;\">\n",
    "    <img src=\"./images/job_success_message.png\" width=\"511\" height=\"211\"/>\n",
    "</div>\n",
    "\n",
    "- This is how the pipeline graph would look like:\n",
    "\n",
    "<div style=\"text-align: center;\">\n",
    "    <img src=\"./images/peft_pipeline_1.png\" width=\"511\" height=\"211\"/>\n",
    "</div>"
   ]
  }
 ],
 "metadata": {
  "environment": {
   "kernel": "python3",
   "name": "tf2-cpu.2-11.m113",
   "type": "gcloud",
   "uri": "gcr.io/deeplearning-platform-release/tf2-cpu.2-11:m113"
  },
  "kernelspec": {
   "display_name": "Python 3 (ipykernel)",
   "language": "python",
   "name": "python3"
  },
  "language_info": {
   "codemirror_mode": {
    "name": "ipython",
    "version": 3
   },
   "file_extension": ".py",
   "mimetype": "text/x-python",
   "name": "python",
   "nbconvert_exporter": "python",
   "pygments_lexer": "ipython3",
   "version": "3.10.14"
  }
 },
 "nbformat": 4,
 "nbformat_minor": 5
}
